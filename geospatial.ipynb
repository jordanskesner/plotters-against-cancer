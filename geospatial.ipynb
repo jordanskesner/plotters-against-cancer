{
 "cells": [
  {
   "cell_type": "markdown",
   "id": "957c065e-1c82-4ac2-be0a-0a168dc75b08",
   "metadata": {},
   "source": [
    "# Geospatial Analysis\n",
    "\n",
    "This analysis can give a geospatial overview of various cancer metrics across different counties. The following can be examined:\n",
    "\n",
    "- **Average Annual Count(avganncount)**: Average annual count of cancer cases in the county.\n",
    "- **Average Deaths Per Year (avgdeathsperyear)**: Average number of deaths per year in the county.\n",
    "- **Incidence Rate (incidencerate)**: Number of incidents per 100k individuals in each county.\n",
    "- **Target Death Rate (target_deathrate)**: Number of deaths per 100k individuals in each county.\n",
    "\n",
    "By visualizing these on a map, you can look for geographic patterns."
   ]
  },
  {
   "cell_type": "markdown",
   "id": "02896ceb-b2b9-49c2-9e42-ef1c6c5b34e8",
   "metadata": {},
   "source": [
    "## Cleaning the data"
   ]
  },
  {
   "cell_type": "code",
   "execution_count": null,
   "id": "111c5483-386c-4cb1-96ec-012d52be9469",
   "metadata": {},
   "outputs": [],
   "source": [
    "import pandas as pd"
   ]
  },
  {
   "cell_type": "code",
   "execution_count": null,
   "id": "bc879ce4-c680-455d-a909-6ec30901b931",
   "metadata": {},
   "outputs": [],
   "source": [
    "# Load the datasets into Pandas dataframes\n",
    "household_df = pd.read_csv(\"Resources/avg-household-size.csv\")\n",
    "cancer_df = pd.read_csv(\"Resources/cancer_reg.csv\")"
   ]
  },
  {
   "cell_type": "code",
   "execution_count": null,
   "id": "69a1d97d-fdd5-470c-95c1-0203cde0120b",
   "metadata": {},
   "outputs": [],
   "source": [
    "# Merge the household and cancer data into a single dataframe\n",
    "df = pd.merge(household_df, cancer_df, on=\"geography\", how=\"inner\")\n",
    "df.info()"
   ]
  },
  {
   "cell_type": "code",
   "execution_count": null,
   "id": "51176f63-6078-4853-9738-95f1b9d15c88",
   "metadata": {},
   "outputs": [],
   "source": [
    "# Clean up some of the columns\n",
    "df[\"pctprivatecoveragealone\"].fillna(df[\"pctprivatecoveragealone\"].mean(), inplace=True)\n",
    "df[\"pctemployed16_over\"].fillna(df[\"pctemployed16_over\"].mean(), inplace=True)\n",
    "df.drop(columns=['pctsomecol18_24', 'index_x', 'index_y'], axis=1, inplace=True)"
   ]
  },
  {
   "cell_type": "code",
   "execution_count": null,
   "id": "a19cc8f4-e8ea-44fd-af3c-16beb7861e11",
   "metadata": {},
   "outputs": [],
   "source": [
    "# Calculate summary statistics for the dataframe\n",
    "df.describe().T"
   ]
  },
  {
   "cell_type": "code",
   "execution_count": null,
   "id": "cd6edb5f-48ff-4db2-8eb5-ffcc82a75b7e",
   "metadata": {},
   "outputs": [],
   "source": [
    "# Median age has some unusual values\n",
    "display(df[df[\"medianage\"] > 80][\"medianage\"])\n",
    "df[df[\"medianage\"] < 80][\"medianage\"].describe()"
   ]
  },
  {
   "cell_type": "code",
   "execution_count": null,
   "id": "6921eacb-9eaf-4ba7-85fe-a53e1bb02829",
   "metadata": {},
   "outputs": [],
   "source": [
    "# I don't know what to do with these and I don't really care.\n",
    "df['medianage'] = df['medianage'].apply(lambda x: x / 10 if x > 80 else x)"
   ]
  },
  {
   "cell_type": "code",
   "execution_count": null,
   "id": "cc7a7323-0318-4f36-80b1-bbdd3ffdc286",
   "metadata": {},
   "outputs": [],
   "source": [
    "# In the dataset we are using some of the cancer data was incorrectly imputed.\n",
    "for column in [\"avganncount\", \"avgdeathsperyear\", \"target_deathrate\", \"incidencerate\"]:\n",
    "    display(df[column].value_counts().head(5))"
   ]
  },
  {
   "cell_type": "code",
   "execution_count": null,
   "id": "2fab0746-4603-4759-a21f-32e5431781ca",
   "metadata": {},
   "outputs": [],
   "source": [
    "# Recalculate the means\n",
    "counties = df[df[\"avganncount\"] == 1962.667684][\"geography\"]\n",
    "\n",
    "avganncount_mean = df[~df[\"geography\"].isin(counties)][\"avganncount\"].mean()\n",
    "incidencerate_mean = df[~df[\"geography\"].isin(counties)][\"incidencerate\"].mean()\n",
    "\n",
    "print(f\"New avganncount mean: {avganncount_mean}\")\n",
    "print(f\"New incidencerate mean: {incidencerate_mean}\")\n",
    "\n",
    "df.loc[df[\"geography\"].isin(counties), \"avganncount\"] = avganncount_mean\n",
    "df.loc[df[\"geography\"].isin(counties), \"incidencerate\"] = incidencerate_mean"
   ]
  },
  {
   "cell_type": "markdown",
   "id": "25cf6e6b-dab5-4431-ba90-40fec5922fe2",
   "metadata": {},
   "source": [
    "# Choropleth maps "
   ]
  },
  {
   "cell_type": "code",
   "execution_count": null,
   "id": "bbb7665c-54ff-4d7c-a6bd-e1ccc39b43fb",
   "metadata": {},
   "outputs": [],
   "source": [
    "# I took this from https://plotly.com/python/choropleth-maps/\n",
    "from urllib.request import urlopen\n",
    "import json\n",
    "with urlopen('https://raw.githubusercontent.com/plotly/datasets/master/geojson-counties-fips.json') as response:\n",
    "    counties = json.load(response)\n",
    "\n",
    "import plotly.express as px\n",
    "\n",
    "choropleth_df = df.copy()\n",
    "\n",
    "df['fips'] = df['statefips'].apply(lambda x: f\"{int(x):02d}\") + df['countyfips'].apply(lambda x: f\"{int(x):03d}\")\n",
    "\n",
    "fig = px.choropleth(choropleth_df, geojson=counties, locations='fips', color='target_deathrate', color_continuous_scale=\"Plasma\", scope=\"usa\", labels={'target_deathrate':'Target Death Rate'})\n",
    "fig.update_layout(margin={\"r\":0,\"t\":0,\"l\":0,\"b\":0})\n",
    "\n",
    "fig.write_image(\"results/figures/county_level_cancer_mortality_rates.png\")\n",
    "fig.show()\n"
   ]
  },
  {
   "cell_type": "markdown",
   "id": "3fef5b7d-86f8-4158-af86-221056ee7e85",
   "metadata": {},
   "source": [
    "# Regional Analysis\n",
    "\n",
    "I'm referencing the official [Census Regions and Divisions of the United States](https://www2.census.gov/geo/pdfs/maps-data/maps/reference/us_regdiv.pdf) PDF."
   ]
  },
  {
   "cell_type": "code",
   "execution_count": null,
   "id": "18051b56-f543-4f6a-9ed3-191d700c60cd",
   "metadata": {},
   "outputs": [],
   "source": [
    "# West Region\n",
    "pacific_fips = [2, 6, 15, 41, 53]\n",
    "mountain_fips = [4, 8, 16, 30, 32, 35, 49, 56]\n",
    "\n",
    "# Midwest Region\n",
    "west_north_central_fips = [19, 20, 27, 29, 31, 38, 46]\n",
    "east_north_central_fips = [17, 18, 26, 39, 55]\n",
    "\n",
    "# Northeast Region\n",
    "middle_atlantic_fips = [34, 36, 42]\n",
    "new_england_fips = [9, 23, 25, 33, 44, 50]\n",
    "\n",
    "# South Region\n",
    "west_south_central_fips = [5, 22, 40, 48]\n",
    "east_south_central_fips = [1, 21, 28, 47]\n",
    "south_atlantic_fips = [10, 11, 12, 13, 24, 37, 45, 51, 54]"
   ]
  },
  {
   "cell_type": "code",
   "execution_count": null,
   "id": "cbf4aed3-dff5-4667-b987-72abd67f26ee",
   "metadata": {},
   "outputs": [],
   "source": [
    "west_fips = pacific_fips + mountain_fips\n",
    "midwest_fips = west_north_central_fips + east_north_central_fips\n",
    "northeast_fips = middle_atlantic_fips + new_england_fips\n",
    "south_fips = west_south_central_fips + east_south_central_fips + south_atlantic_fips"
   ]
  },
  {
   "cell_type": "code",
   "execution_count": null,
   "id": "9bbdda4c-552e-4f88-8af4-87e1bb9daef8",
   "metadata": {},
   "outputs": [],
   "source": [
    "import numpy as np\n",
    "\n",
    "df['region'] = np.select(\n",
    "    [\n",
    "        df['statefips'].isin(west_fips),\n",
    "        df['statefips'].isin(midwest_fips),\n",
    "        df['statefips'].isin(northeast_fips),\n",
    "        df['statefips'].isin(south_fips),\n",
    "    ],\n",
    "    [\n",
    "        'West', 'Midwest', 'Northeast', 'South',\n",
    "    ],\n",
    "    default='Unknown'\n",
    ")\n",
    "\n",
    "fig = px.box(df[df['region'] != 'Unknown'], x='region', y='target_deathrate',\n",
    "             labels={'target_deathrate': 'Target Death Rate'},\n",
    "             color='region')\n",
    "\n",
    "fig.write_image(\"results/figures/region_level_cancer_mortality_rates.png\")\n",
    "fig.show()"
   ]
  }
 ],
 "metadata": {
  "kernelspec": {
   "display_name": "Python 3 (ipykernel)",
   "language": "python",
   "name": "python3"
  },
  "language_info": {
   "codemirror_mode": {
    "name": "ipython",
    "version": 3
   },
   "file_extension": ".py",
   "mimetype": "text/x-python",
   "name": "python",
   "nbconvert_exporter": "python",
   "pygments_lexer": "ipython3",
   "version": "3.11.7"
  }
 },
 "nbformat": 4,
 "nbformat_minor": 5
}
